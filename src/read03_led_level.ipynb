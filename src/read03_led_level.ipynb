{
 "cells": [
  {
   "cell_type": "code",
   "execution_count": 1,
   "metadata": {},
   "outputs": [],
   "source": [
    "from matplotlib import pyplot as plt\n",
    "import os\n",
    "import numpy as np\n",
    "import pickle\n",
    "from quantiphy import Quantity as Q # pip3 install quantiphy\n",
    "from scipy.signal import find_peaks\n",
    "%matplotlib inline\n",
    "\n",
    "from matplotlib.offsetbox import AnchoredText\n",
    "from matplotlib.patches import Rectangle\n",
    "\n",
    "def addsubfiglabels(axx,skip=0):\n",
    "    try:\n",
    "        len(axx)\n",
    "    except TypeError:\n",
    "        return\n",
    "    ascii_letters = 'abcdefghijklmnopqrstuvwxyz'*(len(axx.ravel())//26+1)\n",
    "    for letter,ax in zip(ascii_letters[skip:],axx.ravel()):\n",
    "        at = AnchoredText(letter,frameon=True, loc='upper left')#prop=dict(size=15)\n",
    "        at.patch.set_boxstyle(\"round,pad=0.,rounding_size=0.2\")\n",
    "        ax.add_artist(at)"
   ]
  },
  {
   "cell_type": "markdown",
   "metadata": {},
   "source": [
    "notes:\n",
    "\n",
    "multimeter readings \n",
    "\n",
    "1.6 1.4 micro amp\n",
    "\n",
    "voltage +2.448 -1.258\n",
    "\n",
    "generator:\n",
    "\n",
    "1.855vpp\n",
    "\n",
    "300mv offset"
   ]
  },
  {
   "cell_type": "code",
   "execution_count": 2,
   "metadata": {},
   "outputs": [
    {
     "data": {
      "text/plain": [
       "['varyamp_1558', 'varyamp_1559', 'varyamp_1560']"
      ]
     },
     "execution_count": 2,
     "metadata": {},
     "output_type": "execute_result"
    }
   ],
   "source": [
    "# all data folders\n",
    "all_folders = sorted([folder for folder in os.listdir() if folder.startswith(\"varyamp_\")])\n",
    "all_folders"
   ]
  },
  {
   "cell_type": "code",
   "execution_count": 3,
   "metadata": {},
   "outputs": [],
   "source": [
    "all_folders = ['varyamp_1560','varyamp_1558']"
   ]
  },
  {
   "cell_type": "code",
   "execution_count": 4,
   "metadata": {},
   "outputs": [
    {
     "name": "stdout",
     "output_type": "stream",
     "text": [
      "CPU times: user 57.5 ms, sys: 277 µs, total: 57.8 ms\n",
      "Wall time: 57.5 ms\n"
     ]
    }
   ],
   "source": [
    "%%time\n",
    "datafolder = \"varyamp_1560/\"\n",
    "raw_data=[]\n",
    "for file in os.listdir(datafolder)[:10]:\n",
    "    data = \"\"\n",
    "    with open(f\"{datafolder}{file}\",\"r\") as f:\n",
    "        data = f.readlines()\n",
    "    raw_data.append( [int(d.split(\",\")[0]) for d in data[25:]] )\n",
    "raw_data = np.array(raw_data)"
   ]
  },
  {
   "cell_type": "code",
   "execution_count": 5,
   "metadata": {
    "scrolled": false
   },
   "outputs": [
    {
     "data": {
      "text/plain": [
       "['Format,1.0B,\\n',\n",
       " 'Memory Length,10000,Memory Length,10000,\\n',\n",
       " 'IntpDistance,0,IntpDistance,0,\\n',\n",
       " 'Trigger Address,4999,Trigger Address,4999,\\n',\n",
       " 'Trigger Level,1.040E+00,Trigger Level,1.040E+00,\\n',\n",
       " 'Source,CH1,Source,CH2,\\n',\n",
       " 'Vertical Units,V,Vertical Units,V,\\n',\n",
       " 'Vertical Units Div,0,Vertical Units Div,0,\\n',\n",
       " 'Vertical Units Extend Div,16,Vertical Units Extend Div,16,\\n',\n",
       " 'Label,,Label,,\\n',\n",
       " 'Probe Type,0,Probe Type,0,\\n',\n",
       " 'Probe Ratio,1.000e+01,Probe Ratio,1.000e+00,\\n',\n",
       " 'Vertical Scale,5.000e-01,Vertical Scale,1.000e+00,\\n',\n",
       " 'Vertical Position,-1.820e+00,Vertical Position,0.000e+00,\\n',\n",
       " 'Horizontal Units,S,Horizontal Units,S,\\n',\n",
       " 'Horizontal Scale,2.000E-05,Horizontal Scale,2.000E-05,\\n',\n",
       " 'Horizontal Position,0.000E+00,Horizontal Position,0.000E+00,\\n',\n",
       " 'Horizontal Mode,Main,Horizontal Mode,Main,\\n',\n",
       " 'SincET Mode,Real Time,SincET Mode,Real Time,\\n',\n",
       " 'Sampling Period,2.000e-08,Sampling Period,2.000e-08,\\n',\n",
       " 'Horizontal Old Scale,2.000E-05,Horizontal Old Scale,2.000E-05,\\n',\n",
       " 'Horizontal Old Position,0.000E+00,Horizontal Old Position,0.000E+00,\\n',\n",
       " 'Firmware,V1.23,Firmware,V1.23,\\n',\n",
       " 'Mode,Fast,Mode,Fast,\\n',\n",
       " 'Waveform Data,,Waveform Data,,\\n']"
      ]
     },
     "execution_count": 5,
     "metadata": {},
     "output_type": "execute_result"
    }
   ],
   "source": [
    "header = data[:25]\n",
    "header"
   ]
  },
  {
   "cell_type": "code",
   "execution_count": 6,
   "metadata": {},
   "outputs": [
    {
     "name": "stdout",
     "output_type": "stream",
     "text": [
      "['Trigger Level,1.040E+00,Trigger Level,1.040E+00', 'Vertical Scale,5.000e-01,Vertical Scale,1.000e+00', 'Vertical Position,-1.820e+00,Vertical Position,0.000e+00', 'Horizontal Scale,2.000E-05,Horizontal Scale,2.000E-05', 'Sampling Period,2.000e-08,Sampling Period,2.000e-08']\n"
     ]
    },
    {
     "data": {
      "text/plain": [
       "(1.04, 0.5, -1.82, 100, -2)"
      ]
     },
     "execution_count": 6,
     "metadata": {},
     "output_type": "execute_result"
    }
   ],
   "source": [
    "scope_settings = [d[:-2] for i,d in list(enumerate(data)) if i in [4,12,13,15,19]]\n",
    "print(scope_settings)\n",
    "trigger_level = float(data[4].split(\",\")[1])\n",
    "vert_scale = float(data[12].split(\",\")[1])\n",
    "vert_pos = float(data[13].split(\",\")[1])\n",
    "vert_units = float(data[8].split(\",\")[1])\n",
    "SamplingPeriod = float(data[19].split(\",\")[1])\n",
    "trigger_level,vert_scale,vert_pos,np.max(raw_data),np.min(raw_data)"
   ]
  },
  {
   "cell_type": "code",
   "execution_count": 7,
   "metadata": {},
   "outputs": [],
   "source": [
    "vert_scaleLED = float(data[12].split(\",\")[3])\n",
    "vert_posLED = float(data[13].split(\",\")[3])\n",
    "vert_unitsLED = float(data[8].split(\",\")[3])\n",
    "def get_ledvoltage(oscilloscope_led):\n",
    "    return oscilloscope_led*vert_scaleLED/vert_unitsLED-vert_posLED\n",
    "def get_apdvoltage(oscilloscope_apd):\n",
    "    return oscilloscope_apd*vert_scale/vert_units-vert_pos"
   ]
  },
  {
   "cell_type": "code",
   "execution_count": null,
   "metadata": {},
   "outputs": [],
   "source": [
    "%%time\n",
    "tempdatafile = \"proc_temp_data/read03_readdata.pkl\"\n",
    "raw_data_list = []\n",
    "rerun = False\n",
    "if rerun or not tempdatafile in os.listdir(\"proc_temp_data/\"):\n",
    "    for i,datafolder in enumerate(all_folders):\n",
    "        raw_data1=[];raw_data2=[];\n",
    "        for file in sorted(os.listdir(datafolder))[:-1]:\n",
    "            data = \"\"\n",
    "            with open(f\"{datafolder}/{file}\",\"r\") as f:\n",
    "                data = f.readlines()\n",
    "            raw_data1.append( [int(d.split(\",\")[0]) for d in data[25:]])\n",
    "            raw_data2.append( [int(d.split(\",\")[2]) for d in data[25:]]) \n",
    "        raw_data = np.array(raw_data1),np.array(raw_data2)\n",
    "        raw_data_list.append( (datafolder,raw_data,data) )\n",
    "    pickle.dump(raw_data_list,open(tempdatafile,\"wb\"))\n",
    "else:\n",
    "    raw_data_list = pickle.load(open(tempdatafile,\"rb\"))\n",
    "print(\"done reading data\")"
   ]
  },
  {
   "cell_type": "code",
   "execution_count": null,
   "metadata": {},
   "outputs": [],
   "source": [
    "def get_scopesettings(data):\n",
    "    scope_settings = [d[:-2] for i,d in list(enumerate(data)) if i in [4,12,13,15,19]]\n",
    "    trigger_level = float(data[4].split(\",\")[1])\n",
    "    vert_scale = float(data[12].split(\",\")[1])\n",
    "    vert_pos = float(data[13].split(\",\")[1])\n",
    "    hori_scale = float(data[15].split(\",\")[1])\n",
    "    sample_period = float(data[19].split(\",\")[1])\n",
    "    return scope_settings,trigger_level,vert_scale,vert_pos,hori_scale,sample_period"
   ]
  },
  {
   "cell_type": "code",
   "execution_count": null,
   "metadata": {},
   "outputs": [],
   "source": [
    "led_data = []\n",
    "apd_data = []\n",
    "for i,_ in enumerate(all_folders):\n",
    "    datafolder, raw_data,data = raw_data_list[i]\n",
    "    apd_data.append(raw_data[0])\n",
    "    led_data.append(raw_data[1])\n",
    "led_data = np.vstack(led_data)\n",
    "apd_data = np.vstack(apd_data)"
   ]
  },
  {
   "cell_type": "code",
   "execution_count": null,
   "metadata": {},
   "outputs": [],
   "source": [
    "i=0\n",
    "datafolder, raw_data,data = raw_data_list[i]\n",
    "scope_settings,trigger_level,vert_scale,vert_pos,hori_scale,sample_period = get_scopesettings(data)"
   ]
  },
  {
   "cell_type": "code",
   "execution_count": null,
   "metadata": {},
   "outputs": [],
   "source": [
    "np.where(np.diff(led_data[0]>0))[0]"
   ]
  },
  {
   "cell_type": "code",
   "execution_count": null,
   "metadata": {},
   "outputs": [],
   "source": [
    "fig,ax=plt.subplots()\n",
    "yregions = [2100,5100,6100,7100]\n",
    "for yregion in yregions:\n",
    "    print(min(led_data[yregion,1000:1500]),max(led_data[yregion,1000:1500]))\n",
    "    ax.plot(led_data[yregion,1000:1500]+55)  "
   ]
  },
  {
   "cell_type": "code",
   "execution_count": null,
   "metadata": {},
   "outputs": [],
   "source": [
    "%%time\n",
    "fig,axx = plt.subplots(1,2,figsize=(16,8))\n",
    "axx=axx.ravel()\n",
    "ax=axx[0]\n",
    "im=ax.imshow(get_ledvoltage(led_data),interpolation=None)\n",
    "plt.colorbar(im,ax=ax,shrink=0.8)\n",
    "ax.set_title(\"LED voltage, square wave @ 64kHz, 20% duty cycle\")\n",
    "ax.set_xlabel(\"time (oscilloscope points)\")\n",
    "ax.set_ylabel(\"frames\")\n",
    "max_x_val=1200\n",
    "ax=axx[1]\n",
    "im=ax.imshow(np.clip(apd_data,0,30),interpolation=None)\n",
    "yregions = [2100,5100,5600,7100]\n",
    "for letter,yregion in zip(\"cdef\",yregions):\n",
    "    ax.add_patch(Rectangle(( 1000, yregion), max_x_val, 200, fill=None, alpha=1,color=\"white\"))\n",
    "    ax.text(1000+max_x_val+100,yregion,letter,color=\"white\", fontsize=14)\n",
    "plt.colorbar(im,ax=ax,shrink=0.8)\n",
    "ax.set_title(\"APD current\")\n",
    "ax.set_xlabel(\"time (micro-second)\")\n",
    "num_xticks = 10\n",
    "ax.set_xticks(np.arange(0,len(led_data[0])+1,len(led_data[0])//num_xticks))\n",
    "ax.set_xticklabels([f\"{i*SamplingPeriod*1000*1000:.0f}\" for i in np.arange(0,len(led_data[0])+1,len(led_data[0])//num_xticks)])\n",
    "\n",
    "addsubfiglabels(axx)\n",
    "plt.tight_layout()\n",
    "plt.savefig(\"results03_01_apdvoltage.png\",dpi=200)"
   ]
  },
  {
   "cell_type": "code",
   "execution_count": null,
   "metadata": {},
   "outputs": [],
   "source": [
    "fig,axx = plt.subplots(4,1,figsize=(14,12))\n",
    "axx=axx.ravel()\n",
    "titles=[\"APD when LED is too dim (dark noise)\",\"APD with detection of photons from LED\",\"APD beginning to be saturated from LED photons\",\"APD saturated from LED photons\"]\n",
    "for ax,title,yregion in zip(axx,titles,yregions):\n",
    "    im=ax.imshow(np.clip(apd_data,0,30)[yregion:yregion+200,1000:1000+max_x_val],interpolation=None,origin=\"lower\")\n",
    "    ax.plot(led_data[yregion,1000:1000+max_x_val]+55,label=f\"LED voltage, peak={get_ledvoltage(max(led_data[yregion,1000:1500]))}V\")\n",
    "    ax.set_yticks([])\n",
    "    ax.set_title(title)\n",
    "    \n",
    "    num_xticks = 24\n",
    "    ax.set_xticks(np.arange(0,max_x_val+1,max_x_val//num_xticks))\n",
    "    ax.set_xticklabels([f\"{i*SamplingPeriod*1000*1000:.0f}\" for i in np.arange(0,max_x_val+1,max_x_val//num_xticks)])\n",
    "    ax.set_xlabel(\"time (micro-second)\")\n",
    "    ax.legend()\n",
    "\n",
    "addsubfiglabels(axx,skip=2)\n",
    "plt.tight_layout()\n",
    "plt.savefig(\"results03_02_apd_zoomed.png\",dpi=200)"
   ]
  },
  {
   "cell_type": "markdown",
   "metadata": {},
   "source": [
    "### average time before each trigger"
   ]
  },
  {
   "cell_type": "code",
   "execution_count": null,
   "metadata": {},
   "outputs": [],
   "source": [
    "scope_settings"
   ]
  },
  {
   "cell_type": "markdown",
   "metadata": {},
   "source": [
    "freq=64kHz"
   ]
  },
  {
   "cell_type": "code",
   "execution_count": null,
   "metadata": {},
   "outputs": [],
   "source": [
    "fig,axx = plt.subplots(1,2,figsize=(10,5))\n",
    "ax=axx[0]\n",
    "peak_x , peak_heights = find_peaks(led_data[0],height=10,distance=200)\n",
    "ax.plot(led_data[0],alpha=1)\n",
    "ax.plot(peak_x,peak_heights[\"peak_heights\"],\"x\",c=\"r\",alpha=0.96)\n",
    "average_pixels_per_cycle=np.mean(np.diff(peak_x))\n",
    "calculated_freq = 1/(sample_period*average_pixels_per_cycle)\n",
    "expected_freq =64000\n",
    "diff = np.diff(1*(led_data[0]>np.mean(led_data[0])))\n",
    "\n",
    "ax.set_ylabel(\"voltage(some units)\")\n",
    "ax.set_title(\"signal from LED\\nscipy.signal.find_peaks\\n\"+f\"calculated_freq={Q(calculated_freq)} Hz\\nexpected_freq={Q(expected_freq)} Hz\")\n",
    "ax.set_xlabel(f\"time ({sample_period}seconds)\")\n",
    "ax=axx[1]\n",
    "time_x = np.arange(len(led_data[0]))*sample_period\n",
    "time_on = np.mean(np.where(diff==-1)[0] - np.where(diff==1)[0])\n",
    "time_off = np.mean(np.where(diff==1)[0][1:]-np.where(diff==-1)[0][:-1])\n",
    "ax.plot(time_x,led_data[0]>np.mean(led_data[0]))\n",
    "ax.plot(time_x[:-1],diff)\n",
    "num_xticks = 10\n",
    "ax.set_xticks(np.arange(0,len(led_data[0])+1,len(led_data[0])//num_xticks)*sample_period)\n",
    "ax.set_xticklabels([i/1000 for i in np.arange(0,len(led_data[0])+1,len(led_data[0])//num_xticks)])\n",
    "ax.set_xlabel(\"time (msec)\")\n",
    "ax.set_title(f\"duty cycle = {time_on/(time_off+time_on)*100:.2f}%\\n\"\n",
    "             f\"calculated freq = {Q(1/sample_period/np.mean(np.diff(np.where(diff==-1)[0])))}Hz\")\n",
    "addsubfiglabels(axx)\n",
    "plt.savefig(\"results03_03_ledvoltage.png\")"
   ]
  },
  {
   "cell_type": "markdown",
   "metadata": {},
   "source": [
    "## find the time intervals between peaks"
   ]
  },
  {
   "cell_type": "code",
   "execution_count": null,
   "metadata": {
    "scrolled": false
   },
   "outputs": [],
   "source": [
    "fig,axx = plt.subplots(3,3,figsize=(10,10))\n",
    "axx=axx.ravel()\n",
    "for framei,ax in enumerate(axx):\n",
    "    framei += 300\n",
    "    peak_x , peak_heights = find_peaks(apd_data[framei],height=10)#,width=2)\n",
    "    ax.plot(apd_data[framei],alpha=0.66)\n",
    "    ax.plot(peak_x,peak_heights[\"peak_heights\"],\"x\",c=\"r\",alpha=0.96)\n",
    "    ax.set_title(f\"apd_data, {len(peak_x)} peaks\")\n",
    "axx[0].set_title(\"Counts per frame\\n using scipy.find_peaks\")\n",
    "addsubfiglabels(axx)\n",
    "plt.savefig(\"results03_04_darkcounts.png\")"
   ]
  },
  {
   "cell_type": "code",
   "execution_count": null,
   "metadata": {},
   "outputs": [],
   "source": [
    "%%time\n",
    "fig,axx = plt.subplots(3,3,figsize=(10,10))\n",
    "for framei,ax in enumerate(axx.ravel()):\n",
    "    framei += 300\n",
    "    ax.plot(led_data[framei],alpha=0.66)\n",
    "    meanheight= np.mean(led_data[framei][np.where(led_data[framei]>np.mean(led_data[framei]))])\n",
    "    ax.set_title(f\"led_data, mean(peaks) = { meanheight :.2f}\")\n",
    "addsubfiglabels(axx)\n",
    "plt.savefig(\"results03_05_led_voltage.png\")"
   ]
  },
  {
   "cell_type": "code",
   "execution_count": null,
   "metadata": {},
   "outputs": [],
   "source": [
    "%%time\n",
    "darkcounts =[]\n",
    "average_peak_led = []\n",
    "for framei in range(len(apd_data)):\n",
    "    peak_x , peak_heights = find_peaks(apd_data[framei],height=10)\n",
    "    darkcounts .append(len(peak_x))\n",
    "    meanheight= np.mean(led_data[framei][np.where(led_data[framei]>np.mean(led_data[framei]))])\n",
    "    average_peak_led.append( meanheight )"
   ]
  },
  {
   "cell_type": "code",
   "execution_count": null,
   "metadata": {},
   "outputs": [],
   "source": [
    "fig,axx = plt.subplots(2,3,figsize=(15,5))\n",
    "\n",
    "ax = axx[0,0]\n",
    "ax.plot(darkcounts)\n",
    "ax.set_ylabel(\"number of peaks per frame\")\n",
    "ax.set_title(\"number of peaks per frame\")\n",
    "ax = axx[1,0]\n",
    "ax.plot(average_peak_led)\n",
    "ax.set_ylabel(\"LED voltage (arb. units)\")\n",
    "ax.set_title(\"LED voltage (arb. units)\")\n",
    "ax.set_xlabel(\"frame id\")\n",
    "\n",
    "ax = axx[0,1]\n",
    "ax.set_title('\"zoomed in\" at [490:600]')\n",
    "ax.plot(darkcounts[490:600])\n",
    "ax = axx[1,1]\n",
    "ax.plot(average_peak_led[490:600]) \n",
    "\n",
    "ax = axx[0,2]\n",
    "ax.set_title('\"zoomed in\" at [7990:8100]')\n",
    "ax.plot(darkcounts[7990:8100])\n",
    "ax = axx[1,2]\n",
    "ax.plot(average_peak_led[7990:8100]) \n",
    "for i in [0,1]:\n",
    "    axx[i,0].axvline(490,color=\"orange\",alpha=0.5)\n",
    "    axx[i,0].axvline(600,color=\"orange\",alpha=0.5)\n",
    "    axx[i,0].axvline(7990,color=\"orange\",alpha=0.5)\n",
    "    axx[i,0].axvline(8100,color=\"orange\",alpha=0.5)\n",
    "plt.tight_layout()\n",
    "addsubfiglabels(axx)\n",
    "plt.savefig(\"results03_06_averaged_crosssection_of_data.png\")"
   ]
  },
  {
   "cell_type": "markdown",
   "metadata": {},
   "source": [
    "### retrieving windows when LED voltage is stable"
   ]
  },
  {
   "cell_type": "code",
   "execution_count": null,
   "metadata": {},
   "outputs": [],
   "source": [
    "from collections import OrderedDict\n",
    "good_frames =OrderedDict() \n",
    "minled = np.inf; maxled = -np.inf\n",
    "for i in range(len(average_peak_led)//500):\n",
    "    roi_led = average_peak_led[90+i*500:490+i*500]\n",
    "    roi_darkcounts = darkcounts[90+i*500:490+i*500]\n",
    "    roi_apd = apd_data[80+i*500:490+i*500]\n",
    "    minled = min(minled,np.median(roi_led)) ; maxled = max(maxled,np.median(roi_led)) \n",
    "    good_frames[f\"{np.mean(roi_led):.5f}\"] = {\"led\":roi_led,\"roi_darkcounts\":roi_darkcounts,\"roi_apd\":roi_apd}"
   ]
  },
  {
   "cell_type": "code",
   "execution_count": null,
   "metadata": {},
   "outputs": [],
   "source": [
    "%%time\n",
    "\n",
    "fig,axx = plt.subplots(1,4,figsize=(20,5))\n",
    "for i in range(len(average_peak_led)//500):\n",
    "    roi_led = average_peak_led[90+i*500:490+i*500]\n",
    "    roi_darkcounts = darkcounts[90+i*500:490+i*500]\n",
    "    medianled=np.mean(roi_led)\n",
    "    axx[1].plot(roi_led,c=plt.cm.viridis((medianled-minled)/(maxled-minled)),label=f\"{medianled:.1f}\") \n",
    "    axx[0].plot(average_peak_led[i*500:500+i*500],c=plt.cm.viridis((medianled-minled)/(maxled-minled)))\n",
    "    if i % 6==0:\n",
    "        axx[2].plot(roi_darkcounts,label=f\"{medianled:.1f}, {np.mean(roi_darkcounts):.1f}\",c=plt.cm.viridis((medianled-minled)/(maxled-minled)))\n",
    "axx[2].legend(title=\"mean\\nVoltage, Counts\",loc=\"right\")\n",
    "axx[2].set_title(\"No. of peaks (counts) within each frame\\nonly selected data are shown\")\n",
    "axx[2].set_xlabel(\"frames\")\n",
    "axx[1].legend(title=\"mean\\nVoltage\",fontsize=7,loc=\"right\")\n",
    "axx[1].set_title(\"LED voltage of selected ranges.\\nremoved spurious & transitory LED voltages\\n[AFTER]\")\n",
    "axx[1].set_ylabel(\"LED voltage (arb. units)\")\n",
    "axx[1].set_xlabel(\"frames\")\n",
    "\n",
    "axx[0].set_title(\"LED voltage with transitory signals due to\\nincrement of LED voltage at every 500th frame\\n[BEFORE]\")\n",
    "axx[0].set_xlabel(\"frames\")\n",
    "avg_counts_temp= [ ];avg_led_temp=[]\n",
    "for led,dictt in good_frames.items():\n",
    "    avg_counts_temp.append(float(np.mean(dictt[\"roi_darkcounts\"])))\n",
    "    avg_led_temp.append(float(led))\n",
    "ax=axx[3]    \n",
    "ax.scatter(avg_led_temp[:-2],avg_counts_temp[:-2],marker=\"o\",label=\"increasing LED voltage\")\n",
    "ax.scatter(avg_led_temp[-2:],avg_counts_temp[-2:],marker=\"x\",label=\"decreasing LED voltage\") \n",
    "ax.axhspan(5,6,0,0.65,color=\"k\",alpha=0.5,label=\"dark counts\")\n",
    "ax.axhspan(5,6,0.65,0.90,color=\"r\",alpha=0.5,label=\"effective region\")\n",
    "ax.axhspan(5,6,0.90,1,color=\"b\",alpha=0.5,label=\"saturation\")\n",
    "ax.legend(loc=\"center left\")\n",
    "ax.set_ylabel(\"counts\")\n",
    "ax.set_xlabel(\"LED voltage (arb. units)\")\n",
    "ax.set_title(\"APD counts vs LED voltage\")\n",
    "plt.tight_layout()\n",
    "addsubfiglabels(axx)\n",
    "plt.savefig(\"results03_07_ledvoltagelevels_selection.png\",dpi=150)"
   ]
  },
  {
   "cell_type": "markdown",
   "metadata": {},
   "source": [
    "### getting the poisson statistics of counts\n",
    "\n",
    "Each frame as an interval of 10 milli seconds in real time.\n",
    "\n",
    "On average, x peaks are present in each frame (averaged over 400 frames)\n",
    "\n",
    "Assuming the peaks are independent of each other, x should follow a poisson distribution"
   ]
  },
  {
   "cell_type": "code",
   "execution_count": null,
   "metadata": {},
   "outputs": [],
   "source": [
    "%%time\n",
    "roi_darkcounts = [good_frames[key][\"roi_darkcounts\"] for key in good_frames.keys() if float(key)<45]\n",
    "roi_darkcounts = np.array(roi_darkcounts).reshape(-1)\n",
    "\n",
    "peak_vec_x = []\n",
    "peak_vec_height = []\n",
    "for key in good_frames.keys():\n",
    "    if float(key)>=45:\n",
    "        continue\n",
    "    for i in range(len(good_frames[key]['roi_apd'])):\n",
    "        roi_apd=good_frames[key]['roi_apd'][i]\n",
    "        peak_x , peak_heights = find_peaks(roi_apd,height=10)\n",
    "        for _x,_y in zip(np.diff(peak_x),np.diff(peak_heights[\"peak_heights\"])):\n",
    "            peak_vec_x.append(_x)\n",
    "            peak_vec_height.append(_y)"
   ]
  },
  {
   "cell_type": "code",
   "execution_count": null,
   "metadata": {},
   "outputs": [],
   "source": [
    "good_frames.keys()"
   ]
  },
  {
   "cell_type": "code",
   "execution_count": null,
   "metadata": {},
   "outputs": [],
   "source": [
    "%%time \n",
    "fig,axx = plt.subplots(2,3,figsize=(15,10))\n",
    "axx=axx.ravel()\n",
    "ax=axx[0]\n",
    "handles = [];labels=[]\n",
    "roi_apd=good_frames[\"38.11467\"]['roi_apd'][4]\n",
    "ax.plot(np.arange(len(roi_apd))*SamplingPeriod*1e6,roi_apd)\n",
    "peak_x , peak_heights = find_peaks(roi_apd,height=10)\n",
    "plothandle, = ax.plot(peak_x*SamplingPeriod*1e6,peak_heights[\"peak_heights\"],\"x\",label=\"peaks\")\n",
    "handles.append(plothandle);labels.append(\"peaks\")\n",
    "for _x,_y,_dx,_dy in zip(peak_x[:-1],peak_heights[\"peak_heights\"][:-1],\n",
    "                         np.diff(peak_x),np.diff(peak_heights[\"peak_heights\"])):\n",
    "    arrows = ax.arrow(_x*SamplingPeriod*1e6,_y,_dx*SamplingPeriod*1e6,_dy,color=plt.cm.rainbow(_x/max(peak_x[:-1])),ls=\"--\")\n",
    "    handles.append(arrows);labels.append(\"relative differences in (x & y)\")\n",
    "ax.set_title(f\"APD signal in an average frame ({Q(SamplingPeriod*1e4)}s)\")\n",
    "ax.legend(handles,labels,fontsize=7,loc=\"center left\")\n",
    "ax.set_ylabel(\"APD signal (arb. units)\")\n",
    "ax.set_xlabel(\"time (microseconds)\")\n",
    "\n",
    "ax=axx[3]\n",
    "ax.set_title(\"Dark counts of APD vs Simulated\\nPoisson distribution with the same lambda\\n\"+\n",
    "             \"Number of Peaks in an average frame\")\n",
    "ax.hist(roi_darkcounts,bins=np.arange(min(roi_darkcounts),max(roi_darkcounts)+1),\n",
    "         label=f\"Experimental:\\ndark counts per frame,\\nmean = {np.mean(roi_darkcounts):.2f},\"\n",
    "        f\" n={len(roi_darkcounts)}\\nvariance={np.std(roi_darkcounts)**2:.2f}\",density=True,alpha=0.5);\n",
    "rand = np.random.poisson(np.mean(roi_darkcounts),size=len(roi_darkcounts)*10)\n",
    "ax.hist(rand,bins=np.arange(min(rand),max(rand)+1),\n",
    "         label=f\"Simulation:\\nnumpy.random.poisson,\\nmean = {np.mean(rand):.2f},\"\n",
    "        f\" n={len(roi_darkcounts)*10}\\nvariance={np.std(rand)**2:.2f}\",density=True,alpha=0.5);\n",
    "ax.legend(fontsize=8)\n",
    "ax.set_ylabel(\"relative frequency\")\n",
    "ax.set_xlabel(\"counts per frame\")\n",
    "\n",
    "ax=axx[1]\n",
    "\n",
    "ax.scatter(np.array(peak_vec_x).reshape(-1)*SamplingPeriod*1e6,np.array(peak_vec_height).reshape(-1),marker=\"x\",alpha=0.1)\n",
    "for _x,_y,_dx,_dy in zip(peak_x[:-1],peak_heights[\"peak_heights\"][:-1],\n",
    "                        np.diff(peak_x),np.diff(peak_heights[\"peak_heights\"])):\n",
    "    ax.arrow(0,0,_dx*SamplingPeriod*1e6,_dy,color=plt.cm.rainbow(_x/max(peak_x[:-1])),ls=\"--\")\n",
    "ax.set_title(\"relative differences in peak height and peak intervals\")\n",
    "ax.set_ylabel(\"difference in peak height\")\n",
    "ax.set_xlabel(\"difference in peak intervals (microseconds)\")\n",
    "\n",
    "ax=axx[2]\n",
    "ax.hist(np.array(peak_vec_height).reshape(-1),orientation =\"horizontal\",density=True,\n",
    "        bins=np.arange(np.min(peak_vec_height),np.max(peak_vec_height)+2))\n",
    "ax.set_title(\"histogram of differences in peak heights\")\n",
    "ax.set_ylabel(\"difference in peak height\")\n",
    "ax.set_xlabel(\"frequency\")\n",
    "\n",
    "ax=axx[4]\n",
    "heights,bins ,_=ax.hist(np.array(peak_vec_x).reshape(-1)*SamplingPeriod*1e6,density=True,bins=100)#np.arange(np.min(peak_vec_x),np.max(peak_vec_x)+2))\n",
    "ax.set_title(\"histogram of differences in peak intervals\")\n",
    "ax.set_xlabel(\"difference in peak intervals (microseconds)\")\n",
    "ax.set_ylabel(\"frequency\")\n",
    "\n",
    "ax = axx[5]\n",
    "from scipy.optimize import curve_fit\n",
    "def exp_func(x,lamb,a): #https://towardsdatascience.com/what-is-exponential-distribution-7bdd08590e2a\n",
    "    return a*np.exp(-lamb*x)\n",
    "# np.histogram( np.array(peak_vec_x).reshape(-1) )\n",
    "fittingx = bins[np.argmax(heights)+1+0:]\n",
    "fittingy =heights[np.argmax(heights)+0:] \n",
    "popt,_=curve_fit(exp_func,fittingx,fittingy,p0=[0.001,1/800])\n",
    "\n",
    "ax.plot(bins[1:],heights,label=\"raw data\")\n",
    "ax.plot(fittingx,fittingy,\"x-\",label=\"data used for fitting\")\n",
    "#ax.axvline(fittingx[0],ls=\"--\",color=\"red\")\n",
    "ax.set_title(r\"fitted $\\lambda$ = \"+f\"{popt[0]:.5f}\")\n",
    "ax.plot(fittingx,exp_func(fittingx,*popt),label=r\"fitted e$^{-\\lambda x}$\")\n",
    "ax.fill_betweenx(fittingy,0,fittingx[0],color=\"red\",alpha=0.1,label=f\"dead time = {Q(fittingx[0]*1e-6)}s\")\n",
    "ax.set_xlabel(\"difference in peak intervals (microseconds)\")\n",
    "ax.legend()\n",
    "addsubfiglabels(axx)\n",
    "plt.tight_layout()\n",
    "plt.savefig(\"results03_08_distribution_of_peaks.png\",dpi=150)"
   ]
  },
  {
   "cell_type": "code",
   "execution_count": null,
   "metadata": {},
   "outputs": [],
   "source": [
    "15000 # cps counts per sec (sap500 dark count rate)"
   ]
  },
  {
   "cell_type": "code",
   "execution_count": null,
   "metadata": {},
   "outputs": [],
   "source": [
    "8.19/(SamplingPeriod*1e4)"
   ]
  },
  {
   "cell_type": "code",
   "execution_count": null,
   "metadata": {},
   "outputs": [],
   "source": [
    "SamplingPeriod"
   ]
  },
  {
   "cell_type": "code",
   "execution_count": null,
   "metadata": {},
   "outputs": [],
   "source": [
    "0.05624*1e6"
   ]
  },
  {
   "cell_type": "code",
   "execution_count": null,
   "metadata": {},
   "outputs": [],
   "source": []
  }
 ],
 "metadata": {
  "kernelspec": {
   "display_name": "Python 3",
   "language": "python",
   "name": "python3"
  },
  "language_info": {
   "codemirror_mode": {
    "name": "ipython",
    "version": 3
   },
   "file_extension": ".py",
   "mimetype": "text/x-python",
   "name": "python",
   "nbconvert_exporter": "python",
   "pygments_lexer": "ipython3",
   "version": "3.7.3"
  }
 },
 "nbformat": 4,
 "nbformat_minor": 5
}
